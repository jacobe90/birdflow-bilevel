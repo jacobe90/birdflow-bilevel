{
 "cells": [
  {
   "cell_type": "code",
   "execution_count": 16,
   "id": "c1140e53",
   "metadata": {},
   "outputs": [],
   "source": [
    "import equinox as eqx\n",
    "import jax.numpy as jnp\n",
    "import jax"
   ]
  },
  {
   "cell_type": "code",
   "execution_count": 66,
   "id": "f0d71279",
   "metadata": {},
   "outputs": [],
   "source": [
    "class BirdFlowMarkovChain(eqx.Module):\n",
    "    cells:  list # the number of grid cells in each S&T week\n",
    "    params: list # the model parameters (initial distribution, transition matrices)\n",
    "    \n",
    "    def __init__(self, key, cells):\n",
    "        self.cells = cells\n",
    "        self.params = []\n",
    "        key, subkey = jax.random.split(key)\n",
    "        self.params.append(jax.random.normal(subkey, shape=(cells[0]))) # initial distribution params\n",
    "        for t in range(len(cells)-1):\n",
    "            key, subkey = jax.random.split(key)\n",
    "            self.params.append(jax.random.normal(subkey, shape=(cells[t+1], cells[t]))) # transition matrix params\n",
    "    \n",
    "    # compute single tstep / pairwise marginals\n",
    "    # see appendix C of BirdFlow paper: https://www.biorxiv.org/content/10.1101/2022.04.12.488057v1.full.pdf+html\n",
    "    def __call__(self):\n",
    "        single_tstep_marginals = []\n",
    "        pairwise_marginals = []\n",
    "        mu_1 = jax.nn.softmax(self.params[0]) # the first single timestep marginal\n",
    "        single_tstep_marginals.append(mu_1)\n",
    "        softmax_mat = jax.vmap(jax.nn.softmax)\n",
    "        \n",
    "        mu_t = mu_1\n",
    "        for t in range(1, len(self.params)):\n",
    "            T = jax.nn.softmax(self.params[t]) # normalizes rows of the array\n",
    "            pairwise_t = mu_t * T # probabilities of transitions from week t-1 -> week t\n",
    "            mu_t = jnp.sum(pairwise_t, axis=1) # probabilities of bird's location in week t\n",
    "            single_tstep_marginals.append(mu_t)\n",
    "            pairwise_marginals.append(pairwise_t)\n",
    "        \n",
    "        return single_tstep_marginals, pairwise_marginals # convert to jax arrays"
   ]
  },
  {
   "cell_type": "code",
   "execution_count": 84,
   "id": "bfc69d91",
   "metadata": {},
   "outputs": [],
   "source": [
    "def l2_location_loss(single_tstep_marginals, st_marginals):\n",
    "    total = 0\n",
    "    T = len(single_tstep_marginals)\n",
    "    for mu_t, mu_hat_t in zip(single_tstep_marginals, st_marginals):\n",
    "        n_t = mu_t.shape[0]\n",
    "        total += jnp.sum((mu_t - mu_hat_t) ** 2) / n_t   # intuition - average squared diff. between model / status and trends probabilities for week t\n",
    "    return total / T   # return average of the average squared differences for each week (divide by T)\n",
    "\n",
    "def w2_location_loss(single_tstep_marginals, st_marginals):\n",
    "    pass\n",
    "\n",
    "def distance_loss(pairwise_marginals, dists):\n",
    "    return 0\n",
    "\n",
    "def entropy_loss(single_tstep_marginals, pairwise_marginals):\n",
    "    return 0\n",
    "\n",
    "@eqx.filter_jit\n",
    "def loss(model, st_marginals, alpha):\n",
    "    single_tstep_marginals, pairwise_marginals = model()\n",
    "    return alpha[0] * l2_location_loss(single_tstep_marginals, st_marginals) + \\\n",
    "           alpha[1] * distance_loss(pairwise_marginals, None) + \\\n",
    "           alpha[2] * entropy_loss(single_tstep_marginals, pairwise_marginals)\n",
    "            "
   ]
  },
  {
   "cell_type": "code",
   "execution_count": 83,
   "id": "2e1afa27",
   "metadata": {
    "scrolled": true
   },
   "outputs": [
    {
     "name": "stdout",
     "output_type": "stream",
     "text": [
      "0.014581856\n"
     ]
    }
   ],
   "source": [
    "key = jax.random.PRNGKey(42)\n",
    "key, subkey = jax.random.split(key)\n",
    "model = BirdFlowMarkovChain(subkey, [2, 3])\n",
    "key, subkey = jax.random.split(key)\n",
    "st_marginals = [jnp.array([0.1, 0.9]), jnp.array([0.2, 0.2, 0.6])]\n",
    "\n",
    "print(loss(model, st_marginals, [0.1, 0.1, 0.1]))"
   ]
  },
  {
   "cell_type": "code",
   "execution_count": 36,
   "id": "d65a2d8e",
   "metadata": {},
   "outputs": [
    {
     "name": "stdout",
     "output_type": "stream",
     "text": [
      "[[[[ 0.15359752 -0.15359752]\n",
      "   [ 0.          0.        ]]\n",
      "\n",
      "  [[-0.15359752  0.15359753]\n",
      "   [ 0.          0.        ]]]\n",
      "\n",
      "\n",
      " [[[ 0.          0.        ]\n",
      "   [ 0.07649832 -0.07649833]]\n",
      "\n",
      "  [[ 0.          0.        ]\n",
      "   [-0.07649833  0.07649827]]]]\n"
     ]
    }
   ],
   "source": [
    "key = jax.random.PRNGKey(42)\n",
    "key, subkey = jax.random.split(key)\n",
    "softmax_mat = jax.vmap(jax.nn.softmax)\n",
    "a = jax.random.normal(subkey, shape=(2, 2))\n",
    "print(jax.jacobian(jax.nn.softmax)(a))"
   ]
  },
  {
   "cell_type": "code",
   "execution_count": 40,
   "id": "c3af0e64",
   "metadata": {},
   "outputs": [
    {
     "name": "stdout",
     "output_type": "stream",
     "text": [
      "[[1 4]\n",
      " [2 6]\n",
      " [3 8]]\n"
     ]
    },
    {
     "data": {
      "text/plain": [
       "Array([ 5,  8, 11], dtype=int32)"
      ]
     },
     "execution_count": 40,
     "metadata": {},
     "output_type": "execute_result"
    }
   ],
   "source": [
    "a = jnp.array([1, 2])\n",
    "b = jnp.array([[1, 2],[2, 3], [3, 4]])\n",
    "c = a * b\n",
    "print(c)\n",
    "jnp.sum(c, axis=1)"
   ]
  }
 ],
 "metadata": {
  "kernelspec": {
   "display_name": "Python 3 (ipykernel)",
   "language": "python",
   "name": "python3"
  },
  "language_info": {
   "codemirror_mode": {
    "name": "ipython",
    "version": 3
   },
   "file_extension": ".py",
   "mimetype": "text/x-python",
   "name": "python",
   "nbconvert_exporter": "python",
   "pygments_lexer": "ipython3",
   "version": "3.13.1"
  }
 },
 "nbformat": 4,
 "nbformat_minor": 5
}
