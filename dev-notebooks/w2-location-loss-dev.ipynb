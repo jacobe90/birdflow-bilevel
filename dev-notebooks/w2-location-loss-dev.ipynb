{
 "cells": [
  {
   "cell_type": "code",
   "execution_count": 1,
   "id": "94337f2e",
   "metadata": {},
   "outputs": [],
   "source": [
    "from ott.solvers import linear\n",
    "from ott.geometry import pointcloud\n",
    "from ott import utils\n",
    "import jax.numpy as jnp\n",
    "import jax\n",
    "from jaxtyping import Array, Float, Int\n",
    "from ott.solvers.linear.implicit_differentiation import ImplicitDiff\n",
    "import matplotlib.pyplot as plt\n",
    "import optax\n",
    "import functools\n",
    "from tqdm import tqdm"
   ]
  }
 ],
 "metadata": {
  "kernelspec": {
   "display_name": "Python 3 (ipykernel)",
   "language": "python",
   "name": "python3"
  },
  "language_info": {
   "codemirror_mode": {
    "name": "ipython",
    "version": 3
   },
   "file_extension": ".py",
   "mimetype": "text/x-python",
   "name": "python",
   "nbconvert_exporter": "python",
   "pygments_lexer": "ipython3",
   "version": "3.13.1"
  }
 },
 "nbformat": 4,
 "nbformat_minor": 5
}
