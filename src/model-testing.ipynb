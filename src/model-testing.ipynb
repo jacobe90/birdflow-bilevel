{
 "cells": [
  {
   "cell_type": "code",
   "execution_count": 5,
   "metadata": {},
   "outputs": [],
   "source": [
    "import haiku as hk\n",
    "import h5py\n",
    "import os\n",
    "import sys\n",
    "sys.path.append(os.path.abspath(\"birdflow/birdflow-bilevel/src/\"))\n",
    "from flow_model_training import loss_fn, mask_input, Datatuple, train_model\n",
    "import numpy as np\n",
    "import optax\n",
    "from functools import partial\n",
    "from jax import jit\n",
    "import jax.numpy as jnp"
   ]
  },
  {
   "cell_type": "code",
   "execution_count": null,
   "metadata": {},
   "outputs": [
    {
     "name": "stdout",
     "output_type": "stream",
     "text": [
      "1.0\n"
     ]
    }
   ],
   "source": [
    "file = h5py.File('birdflow/birdflow-bilevel/ebird-data-loading/amewoo_2021_39km.hdf5', 'r+')\n",
    "\n",
    "true_densities = np.asarray(file['distr']).T\n",
    "\n",
    "weeks = true_densities.shape[0]\n",
    "total_cells = true_densities.shape[1]\n",
    "\n",
    "dist_pow = 0.1\n",
    "distance_vector = np.asarray(file['distances'])**dist_pow\n",
    "distance_vector *= 1 / (100**dist_pow) # normalize the distance vector\n",
    "masks = np.asarray(file['geom']['dynamic_mask']).T.astype(bool)\n",
    "\n",
    "dtuple = Datatuple(weeks, total_cells, distance_vector, masks)\n",
    "print(jnp.sum(jnp.asarray(true_densities[5, :])))\n",
    "distance_matrices, masked_densities, coordinates_for_week = mask_input(true_densities, dtuple)\n",
    "# cells = [d.shape[0] for d in masked_densities]\n",
    "\n",
    "# # Get the random seed and optimizer\n",
    "# key = hk.PRNGSequence(42)\n",
    "# optimizer = optax.adam(1e-3)\n",
    "\n",
    "# # Instantiate loss function\n",
    "# obs_weight = 1\n",
    "# dist_weight = 0.5\n",
    "# ent_weight = 0.5\n",
    "# loss_fn = jit(partial(loss_fn,\n",
    "#                       cells=cells,\n",
    "#                       true_densities=masked_densities, \n",
    "#                       d_matrices=distance_matrices, \n",
    "#                       obs_weight=obs_weight, \n",
    "#                       dist_weight=dist_weight,\n",
    "#                       ent_weight=ent_weight))\n",
    "\n",
    "# # Run Training and get params and losses\n",
    "# training_steps = 10\n",
    "# params, loss_dict = train_model(loss_fn,\n",
    "#                                 optimizer,\n",
    "#                                 training_steps,\n",
    "#                                 cells,\n",
    "#                                 dtuple.weeks,\n",
    "#                                 key)"
   ]
  },
  {
   "cell_type": "code",
   "execution_count": 2,
   "metadata": {},
   "outputs": [
    {
     "name": "stdout",
     "output_type": "stream",
     "text": [
      "/Users/jacobepstein/Documents/work\n"
     ]
    }
   ],
   "source": [
    "print(os.getcwd())"
   ]
  }
 ],
 "metadata": {
  "kernelspec": {
   "display_name": "honors-thesis",
   "language": "python",
   "name": "python3"
  },
  "language_info": {
   "codemirror_mode": {
    "name": "ipython",
    "version": 3
   },
   "file_extension": ".py",
   "mimetype": "text/x-python",
   "name": "python",
   "nbconvert_exporter": "python",
   "pygments_lexer": "ipython3",
   "version": "3.13.2"
  }
 },
 "nbformat": 4,
 "nbformat_minor": 2
}
