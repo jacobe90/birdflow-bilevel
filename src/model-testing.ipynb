{
 "cells": [
  {
   "cell_type": "code",
   "execution_count": 2,
   "metadata": {},
   "outputs": [],
   "source": [
    "import haiku as hk\n",
    "import h5py\n",
    "import os\n",
    "import sys\n",
    "sys.path.append(os.path.abspath(\"birdflow/birdflow-bilevel/src/\"))\n",
    "from flow_model_training import loss_fn, mask_input, Datatuple, train_model, w2_loss_fn\n",
    "from flow_model import model_forward\n",
    "from hdfs import get_plot_parameters\n",
    "import numpy as np\n",
    "import optax\n",
    "from functools import partial\n",
    "from jax import jit\n",
    "import jax.numpy as jnp\n",
    "from ott.geometry.pointcloud import PointCloud\n",
    "from ott.geometry.geometry import Geometry\n",
    "from ott.geometry.costs import CostFn\n",
    "import jax"
   ]
  },
  {
   "cell_type": "code",
   "execution_count": 3,
   "metadata": {},
   "outputs": [
    {
     "name": "stdout",
     "output_type": "stream",
     "text": [
      "1.0\n",
      "[1287, 1327, 1383, 1472, 1616, 1735, 1921, 2058, 2031, 2112, 2273, 2441, 2675, 2812, 2792, 2788, 2827, 2768, 2750, 2671, 2568, 2402, 2267, 2240, 1969, 2064, 2303, 2282, 2037, 2095, 2015, 2028, 1916, 1887, 1955, 1944, 2163, 2337, 2264, 2410, 2617, 2924, 3128, 2989, 2729, 2105, 1764, 1437, 1401, 1297, 1305, 1306, 1287]\n"
     ]
    }
   ],
   "source": [
    "hdf_src = 'birdflow/birdflow-bilevel/ebird-data-loading/amewoo_2021_39km.hdf5'\n",
    "file = h5py.File(hdf_src, 'r+')\n",
    "\n",
    "true_densities = np.asarray(file['distr']).T\n",
    "\n",
    "weeks = true_densities.shape[0]\n",
    "total_cells = true_densities.shape[1]\n",
    "\n",
    "dist_pow = 0.1\n",
    "distance_vector = np.asarray(file['distances'])**dist_pow\n",
    "distance_vector *= 1 / (100**dist_pow) # normalize the distance vector\n",
    "ncol, nrow, dynamic_masks, big_mask = get_plot_parameters(hdf_src)\n",
    "\n",
    "dtuple = Datatuple(weeks, ncol, nrow, total_cells, distance_vector, dynamic_masks, big_mask)\n",
    "print(jnp.sum(jnp.asarray(true_densities[5, :])))\n",
    "distance_matrices, distance_matrices_for_week, masked_densities = mask_input(true_densities, dtuple)\n",
    "cells = [d.shape[0] for d in masked_densities]\n",
    "print(cells)\n",
    "# Get the random seed and optimizer\n",
    "key = hk.PRNGSequence(42)\n",
    "optimizer = optax.adam(1e-3)\n",
    "\n",
    "# Instantiate loss function\n",
    "obs_weight = 1\n",
    "dist_weight = 0.5\n",
    "ent_weight = 0.5\n",
    "loss_fn = jit(partial(loss_fn,\n",
    "                      cells=cells,\n",
    "                      true_densities=masked_densities, \n",
    "                      d_matrices=distance_matrices, \n",
    "                      obs_weight=obs_weight, \n",
    "                      dist_weight=dist_weight,\n",
    "                      ent_weight=ent_weight))\n",
    "w2_loss_fn = partial(w2_loss_fn,\n",
    "                      cells=cells,\n",
    "                      true_densities=masked_densities,\n",
    "                      d_matrices=distance_matrices,\n",
    "                      d_matrices_for_week=distance_matrices_for_week,\n",
    "                      obs_weight=obs_weight,\n",
    "                      dist_weight=dist_weight,\n",
    "                      ent_weight=ent_weight)\n",
    "\n",
    "\n",
    "# Run Training and get params and losses\n",
    "# training_steps = 10\n",
    "# params, loss_dict = train_model(loss_fn,\n",
    "#                                 optimizer,\n",
    "#                                 training_steps,\n",
    "#                                 cells,\n",
    "#                                 dtuple.weeks,\n",
    "#                                 key)"
   ]
  },
  {
   "cell_type": "code",
   "execution_count": null,
   "metadata": {},
   "outputs": [
    {
     "name": "stdout",
     "output_type": "stream",
     "text": [
      "computed w2 loss for week 1\n",
      "computed w2 loss for week 2\n",
      "computed w2 loss for week 3\n",
      "computed w2 loss for week 4\n",
      "computed w2 loss for week 5\n",
      "computed w2 loss for week 6\n",
      "computed w2 loss for week 7\n",
      "computed w2 loss for week 8\n",
      "computed w2 loss for week 9\n",
      "computed w2 loss for week 10\n",
      "computed w2 loss for week 11\n",
      "computed w2 loss for week 12\n",
      "computed w2 loss for week 13\n",
      "computed w2 loss for week 14\n",
      "computed w2 loss for week 15\n",
      "computed w2 loss for week 16\n",
      "computed w2 loss for week 17\n",
      "computed w2 loss for week 18\n",
      "computed w2 loss for week 19\n",
      "computed w2 loss for week 20\n",
      "computed w2 loss for week 21\n",
      "computed w2 loss for week 22\n",
      "computed w2 loss for week 23\n",
      "computed w2 loss for week 24\n"
     ]
    }
   ],
   "source": [
    "key = hk.PRNGSequence(42)\n",
    "params = model_forward.init(next(key), cells, weeks)\n",
    "pred = model_forward.apply(params, None, cells, weeks)\n",
    "#standard_loss_val = loss_fn(params)\n",
    "w2_loss_val = w2_loss_fn(params)\n",
    "#print(standard_loss_val)\n",
    "print(w2_loss_val)"
   ]
  },
  {
   "cell_type": "code",
   "execution_count": null,
   "metadata": {},
   "outputs": [
    {
     "name": "stdout",
     "output_type": "stream",
     "text": [
      "[[10. 10. 10. 10. 10. 10. 10. 10. 10. 10.]\n",
      " [10. 10. 10. 10. 10. 10. 10. 10. 10. 10.]\n",
      " [10. 10. 10. 10. 10. 10. 10. 10. 10. 10.]\n",
      " [10. 10. 10. 10. 10. 10. 10. 10. 10. 10.]\n",
      " [10. 10. 10. 10. 10. 10. 10. 10. 10. 10.]\n",
      " [10. 10. 10. 10. 10. 10. 10. 10. 10. 10.]\n",
      " [10. 10. 10. 10. 10. 10. 10. 10. 10. 10.]\n",
      " [10. 10. 10. 10. 10. 10. 10. 10. 10. 10.]\n",
      " [10. 10. 10. 10. 10. 10. 10. 10. 10. 10.]\n",
      " [10. 10. 10. 10. 10. 10. 10. 10. 10. 10.]]\n"
     ]
    }
   ],
   "source": [
    "a = jnp.linspace(0, 10, 5)\n",
    "x = a.reshape((a.shape[0], 1)).astype(float)\n",
    "pc = PointCloud(x, x)\n",
    "\n",
    "class CustomCostFn(CostFn):\n",
    "    def __init__(self):\n",
    "        super().__init__()\n",
    "        self.cost_matrix = 10 * jnp.ones((10, 10))\n",
    "    def __call__(self, x, y):\n",
    "        pass\n",
    "    def all_pairs(self, x: jnp.ndarray, y: jnp.ndarray) -> jnp.ndarray:\n",
    "        '''\n",
    "        See https://ott-jax.readthedocs.io/en/latest/_modules/ott/geometry/costs.html#CostFn.all_pairs\n",
    "        '''\n",
    "        return self.cost_matrix\n",
    "custom_cost_mat = 10 * jnp.ones((10, 10))\n",
    "geom = Geometry(cost_matrix=custom_cost_mat)\n",
    "print(geom.cost_matrix)"
   ]
  },
  {
   "cell_type": "code",
   "execution_count": null,
   "metadata": {},
   "outputs": [
    {
     "name": "stdout",
     "output_type": "stream",
     "text": [
      "(1,)\n",
      "(1,)\n",
      "[[2]]\n"
     ]
    }
   ],
   "source": [
    "arr = jnp.array([[1, 2], [3, 4]])\n",
    "\n",
    "def fn(x, y):\n",
    "    print(x.shape)\n",
    "    print(y.shape)\n",
    "    return arr[x, y]  # Direct indexing works inside vmap\n",
    "\n",
    "vmapped_fn = jax.vmap(fn)\n",
    "\n",
    "# Batch inputs\n",
    "x_batch = jnp.array([0, 1])  # Row indices\n",
    "y_batch = jnp.array([1, 0])  # Column indices\n",
    "\n",
    "result = vmapped_fn(jnp.array([[0]]), jnp.array([[1]]))\n",
    "print(result)"
   ]
  },
  {
   "cell_type": "code",
   "execution_count": null,
   "metadata": {},
   "outputs": [
    {
     "name": "stdout",
     "output_type": "stream",
     "text": [
      "/Users/jacobepstein/Documents/work\n"
     ]
    }
   ],
   "source": [
    "print(os.getcwd())"
   ]
  }
 ],
 "metadata": {
  "kernelspec": {
   "display_name": "honors-thesis",
   "language": "python",
   "name": "python3"
  },
  "language_info": {
   "codemirror_mode": {
    "name": "ipython",
    "version": 3
   },
   "file_extension": ".py",
   "mimetype": "text/x-python",
   "name": "python",
   "nbconvert_exporter": "python",
   "pygments_lexer": "ipython3",
   "version": "3.13.2"
  }
 },
 "nbformat": 4,
 "nbformat_minor": 2
}
